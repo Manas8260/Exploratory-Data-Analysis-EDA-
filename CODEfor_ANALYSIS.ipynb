{
 "cells": [
  {
   "cell_type": "code",
   "execution_count": 2,
   "id": "415ae81d-020a-4f9a-94c4-e7871dec815d",
   "metadata": {},
   "outputs": [],
   "source": [
    "import pandas as pd \n",
    "import numpy as np\n",
    "import matplotlib.pyplot as plt \n",
    "import seaborn as sns\n",
    "\n",
    "import warnings\n",
    "warnings.filterwarnings(\"ignore\")"
   ]
  },
  {
   "cell_type": "code",
   "execution_count": 3,
   "id": "0beb2d7a-524f-4769-aaac-ba9b8e6318c7",
   "metadata": {},
   "outputs": [
    {
     "data": {
      "text/html": [
       "<div>\n",
       "<style scoped>\n",
       "    .dataframe tbody tr th:only-of-type {\n",
       "        vertical-align: middle;\n",
       "    }\n",
       "\n",
       "    .dataframe tbody tr th {\n",
       "        vertical-align: top;\n",
       "    }\n",
       "\n",
       "    .dataframe thead th {\n",
       "        text-align: right;\n",
       "    }\n",
       "</style>\n",
       "<table border=\"1\" class=\"dataframe\">\n",
       "  <thead>\n",
       "    <tr style=\"text-align: right;\">\n",
       "      <th></th>\n",
       "      <th>show_id</th>\n",
       "      <th>type</th>\n",
       "      <th>title</th>\n",
       "      <th>director</th>\n",
       "      <th>cast</th>\n",
       "      <th>country</th>\n",
       "      <th>date_added</th>\n",
       "      <th>release_year</th>\n",
       "      <th>rating</th>\n",
       "      <th>duration</th>\n",
       "      <th>listed_in</th>\n",
       "      <th>description</th>\n",
       "    </tr>\n",
       "  </thead>\n",
       "  <tbody>\n",
       "    <tr>\n",
       "      <th>0</th>\n",
       "      <td>s1</td>\n",
       "      <td>Movie</td>\n",
       "      <td>The Grand Seduction</td>\n",
       "      <td>Don McKellar</td>\n",
       "      <td>Brendan Gleeson, Taylor Kitsch, Gordon Pinsent</td>\n",
       "      <td>Canada</td>\n",
       "      <td>March 30, 2021</td>\n",
       "      <td>2014</td>\n",
       "      <td>NaN</td>\n",
       "      <td>113 min</td>\n",
       "      <td>Comedy, Drama</td>\n",
       "      <td>A small fishing village must procure a local d...</td>\n",
       "    </tr>\n",
       "    <tr>\n",
       "      <th>1</th>\n",
       "      <td>s2</td>\n",
       "      <td>Movie</td>\n",
       "      <td>Take Care Good Night</td>\n",
       "      <td>Girish Joshi</td>\n",
       "      <td>Mahesh Manjrekar, Abhay Mahajan, Sachin Khedekar</td>\n",
       "      <td>India</td>\n",
       "      <td>March 30, 2021</td>\n",
       "      <td>2018</td>\n",
       "      <td>13+</td>\n",
       "      <td>110 min</td>\n",
       "      <td>Drama, International</td>\n",
       "      <td>A Metro Family decides to fight a Cyber Crimin...</td>\n",
       "    </tr>\n",
       "    <tr>\n",
       "      <th>2</th>\n",
       "      <td>s3</td>\n",
       "      <td>Movie</td>\n",
       "      <td>Secrets of Deception</td>\n",
       "      <td>Josh Webber</td>\n",
       "      <td>Tom Sizemore, Lorenzo Lamas, Robert LaSardo, R...</td>\n",
       "      <td>United States</td>\n",
       "      <td>March 30, 2021</td>\n",
       "      <td>2017</td>\n",
       "      <td>NaN</td>\n",
       "      <td>74 min</td>\n",
       "      <td>Action, Drama, Suspense</td>\n",
       "      <td>After a man discovers his wife is cheating on ...</td>\n",
       "    </tr>\n",
       "    <tr>\n",
       "      <th>3</th>\n",
       "      <td>s4</td>\n",
       "      <td>Movie</td>\n",
       "      <td>Pink: Staying True</td>\n",
       "      <td>Sonia Anderson</td>\n",
       "      <td>Interviews with: Pink, Adele, Beyoncé, Britney...</td>\n",
       "      <td>United States</td>\n",
       "      <td>March 30, 2021</td>\n",
       "      <td>2014</td>\n",
       "      <td>NaN</td>\n",
       "      <td>69 min</td>\n",
       "      <td>Documentary</td>\n",
       "      <td>Pink breaks the mold once again, bringing her ...</td>\n",
       "    </tr>\n",
       "    <tr>\n",
       "      <th>4</th>\n",
       "      <td>s5</td>\n",
       "      <td>Movie</td>\n",
       "      <td>Monster Maker</td>\n",
       "      <td>Giles Foster</td>\n",
       "      <td>Harry Dean Stanton, Kieran O'Brien, George Cos...</td>\n",
       "      <td>United Kingdom</td>\n",
       "      <td>March 30, 2021</td>\n",
       "      <td>1989</td>\n",
       "      <td>NaN</td>\n",
       "      <td>45 min</td>\n",
       "      <td>Drama, Fantasy</td>\n",
       "      <td>Teenage Matt Banting wants to work with a famo...</td>\n",
       "    </tr>\n",
       "    <tr>\n",
       "      <th>...</th>\n",
       "      <td>...</td>\n",
       "      <td>...</td>\n",
       "      <td>...</td>\n",
       "      <td>...</td>\n",
       "      <td>...</td>\n",
       "      <td>...</td>\n",
       "      <td>...</td>\n",
       "      <td>...</td>\n",
       "      <td>...</td>\n",
       "      <td>...</td>\n",
       "      <td>...</td>\n",
       "      <td>...</td>\n",
       "    </tr>\n",
       "    <tr>\n",
       "      <th>9663</th>\n",
       "      <td>s9664</td>\n",
       "      <td>Movie</td>\n",
       "      <td>Pride Of The Bowery</td>\n",
       "      <td>Joseph H. Lewis</td>\n",
       "      <td>Leo Gorcey, Bobby Jordan</td>\n",
       "      <td>NaN</td>\n",
       "      <td>NaN</td>\n",
       "      <td>1940</td>\n",
       "      <td>7+</td>\n",
       "      <td>60 min</td>\n",
       "      <td>Comedy</td>\n",
       "      <td>New York City street principles get an East Si...</td>\n",
       "    </tr>\n",
       "    <tr>\n",
       "      <th>9664</th>\n",
       "      <td>s9665</td>\n",
       "      <td>TV Show</td>\n",
       "      <td>Planet Patrol</td>\n",
       "      <td>NaN</td>\n",
       "      <td>DICK VOSBURGH, RONNIE STEVENS, LIBBY MORRIS, M...</td>\n",
       "      <td>NaN</td>\n",
       "      <td>NaN</td>\n",
       "      <td>2018</td>\n",
       "      <td>13+</td>\n",
       "      <td>4 Seasons</td>\n",
       "      <td>TV Shows</td>\n",
       "      <td>This is Earth, 2100AD - and these are the adve...</td>\n",
       "    </tr>\n",
       "    <tr>\n",
       "      <th>9665</th>\n",
       "      <td>s9666</td>\n",
       "      <td>Movie</td>\n",
       "      <td>Outpost</td>\n",
       "      <td>Steve Barker</td>\n",
       "      <td>Ray Stevenson, Julian Wadham, Richard Brake, M...</td>\n",
       "      <td>NaN</td>\n",
       "      <td>NaN</td>\n",
       "      <td>2008</td>\n",
       "      <td>R</td>\n",
       "      <td>90 min</td>\n",
       "      <td>Action</td>\n",
       "      <td>In war-torn Eastern Europe, a world-weary grou...</td>\n",
       "    </tr>\n",
       "    <tr>\n",
       "      <th>9666</th>\n",
       "      <td>s9667</td>\n",
       "      <td>TV Show</td>\n",
       "      <td>Maradona: Blessed Dream</td>\n",
       "      <td>NaN</td>\n",
       "      <td>Esteban Recagno, Ezequiel Stremiz, Luciano Vit...</td>\n",
       "      <td>NaN</td>\n",
       "      <td>NaN</td>\n",
       "      <td>2021</td>\n",
       "      <td>TV-MA</td>\n",
       "      <td>1 Season</td>\n",
       "      <td>Drama, Sports</td>\n",
       "      <td>The series tells the story of Diego Maradona, ...</td>\n",
       "    </tr>\n",
       "    <tr>\n",
       "      <th>9667</th>\n",
       "      <td>s9668</td>\n",
       "      <td>Movie</td>\n",
       "      <td>Harry Brown</td>\n",
       "      <td>Daniel Barber</td>\n",
       "      <td>Michael Caine, Emily Mortimer, Joseph Gilgun, ...</td>\n",
       "      <td>NaN</td>\n",
       "      <td>NaN</td>\n",
       "      <td>2010</td>\n",
       "      <td>R</td>\n",
       "      <td>103 min</td>\n",
       "      <td>Action, Drama, Suspense</td>\n",
       "      <td>Harry Brown, starring two-time Academy Award w...</td>\n",
       "    </tr>\n",
       "  </tbody>\n",
       "</table>\n",
       "<p>9668 rows × 12 columns</p>\n",
       "</div>"
      ],
      "text/plain": [
       "     show_id     type                    title         director  \\\n",
       "0         s1    Movie      The Grand Seduction     Don McKellar   \n",
       "1         s2    Movie     Take Care Good Night     Girish Joshi   \n",
       "2         s3    Movie     Secrets of Deception      Josh Webber   \n",
       "3         s4    Movie       Pink: Staying True   Sonia Anderson   \n",
       "4         s5    Movie            Monster Maker     Giles Foster   \n",
       "...      ...      ...                      ...              ...   \n",
       "9663   s9664    Movie      Pride Of The Bowery  Joseph H. Lewis   \n",
       "9664   s9665  TV Show            Planet Patrol              NaN   \n",
       "9665   s9666    Movie                  Outpost     Steve Barker   \n",
       "9666   s9667  TV Show  Maradona: Blessed Dream              NaN   \n",
       "9667   s9668    Movie              Harry Brown    Daniel Barber   \n",
       "\n",
       "                                                   cast         country  \\\n",
       "0        Brendan Gleeson, Taylor Kitsch, Gordon Pinsent          Canada   \n",
       "1      Mahesh Manjrekar, Abhay Mahajan, Sachin Khedekar           India   \n",
       "2     Tom Sizemore, Lorenzo Lamas, Robert LaSardo, R...   United States   \n",
       "3     Interviews with: Pink, Adele, Beyoncé, Britney...   United States   \n",
       "4     Harry Dean Stanton, Kieran O'Brien, George Cos...  United Kingdom   \n",
       "...                                                 ...             ...   \n",
       "9663                           Leo Gorcey, Bobby Jordan             NaN   \n",
       "9664  DICK VOSBURGH, RONNIE STEVENS, LIBBY MORRIS, M...             NaN   \n",
       "9665  Ray Stevenson, Julian Wadham, Richard Brake, M...             NaN   \n",
       "9666  Esteban Recagno, Ezequiel Stremiz, Luciano Vit...             NaN   \n",
       "9667  Michael Caine, Emily Mortimer, Joseph Gilgun, ...             NaN   \n",
       "\n",
       "          date_added  release_year rating   duration                listed_in  \\\n",
       "0     March 30, 2021          2014    NaN    113 min            Comedy, Drama   \n",
       "1     March 30, 2021          2018    13+    110 min     Drama, International   \n",
       "2     March 30, 2021          2017    NaN     74 min  Action, Drama, Suspense   \n",
       "3     March 30, 2021          2014    NaN     69 min              Documentary   \n",
       "4     March 30, 2021          1989    NaN     45 min           Drama, Fantasy   \n",
       "...              ...           ...    ...        ...                      ...   \n",
       "9663             NaN          1940     7+     60 min                   Comedy   \n",
       "9664             NaN          2018    13+  4 Seasons                 TV Shows   \n",
       "9665             NaN          2008      R     90 min                   Action   \n",
       "9666             NaN          2021  TV-MA   1 Season            Drama, Sports   \n",
       "9667             NaN          2010      R    103 min  Action, Drama, Suspense   \n",
       "\n",
       "                                            description  \n",
       "0     A small fishing village must procure a local d...  \n",
       "1     A Metro Family decides to fight a Cyber Crimin...  \n",
       "2     After a man discovers his wife is cheating on ...  \n",
       "3     Pink breaks the mold once again, bringing her ...  \n",
       "4     Teenage Matt Banting wants to work with a famo...  \n",
       "...                                                 ...  \n",
       "9663  New York City street principles get an East Si...  \n",
       "9664  This is Earth, 2100AD - and these are the adve...  \n",
       "9665  In war-torn Eastern Europe, a world-weary grou...  \n",
       "9666  The series tells the story of Diego Maradona, ...  \n",
       "9667  Harry Brown, starring two-time Academy Award w...  \n",
       "\n",
       "[9668 rows x 12 columns]"
      ]
     },
     "execution_count": 3,
     "metadata": {},
     "output_type": "execute_result"
    }
   ],
   "source": [
    "prime = pd.read_csv(\"amazon_prime_titles.csv\")\n",
    "prime"
   ]
  },
  {
   "cell_type": "code",
   "execution_count": 4,
   "id": "bff1e2ea-1c5b-4665-8487-433b933aed33",
   "metadata": {},
   "outputs": [
    {
     "name": "stdout",
     "output_type": "stream",
     "text": [
      "(9668, 12)\n",
      "<class 'pandas.core.frame.DataFrame'>\n",
      "RangeIndex: 9668 entries, 0 to 9667\n",
      "Data columns (total 12 columns):\n",
      " #   Column        Non-Null Count  Dtype \n",
      "---  ------        --------------  ----- \n",
      " 0   show_id       9668 non-null   object\n",
      " 1   type          9668 non-null   object\n",
      " 2   title         9668 non-null   object\n",
      " 3   director      7585 non-null   object\n",
      " 4   cast          8435 non-null   object\n",
      " 5   country       672 non-null    object\n",
      " 6   date_added    155 non-null    object\n",
      " 7   release_year  9668 non-null   int64 \n",
      " 8   rating        9331 non-null   object\n",
      " 9   duration      9668 non-null   object\n",
      " 10  listed_in     9668 non-null   object\n",
      " 11  description   9668 non-null   object\n",
      "dtypes: int64(1), object(11)\n",
      "memory usage: 906.5+ KB\n"
     ]
    }
   ],
   "source": [
    "print(prime.shape)\n",
    "prime.info()"
   ]
  },
  {
   "cell_type": "code",
   "execution_count": 5,
   "id": "da5f0403-0ab1-4124-8fba-75c014682021",
   "metadata": {},
   "outputs": [
    {
     "data": {
      "text/html": [
       "<div>\n",
       "<style scoped>\n",
       "    .dataframe tbody tr th:only-of-type {\n",
       "        vertical-align: middle;\n",
       "    }\n",
       "\n",
       "    .dataframe tbody tr th {\n",
       "        vertical-align: top;\n",
       "    }\n",
       "\n",
       "    .dataframe thead th {\n",
       "        text-align: right;\n",
       "    }\n",
       "</style>\n",
       "<table border=\"1\" class=\"dataframe\">\n",
       "  <thead>\n",
       "    <tr style=\"text-align: right;\">\n",
       "      <th></th>\n",
       "      <th>release_year</th>\n",
       "    </tr>\n",
       "  </thead>\n",
       "  <tbody>\n",
       "    <tr>\n",
       "      <th>count</th>\n",
       "      <td>9668.000000</td>\n",
       "    </tr>\n",
       "    <tr>\n",
       "      <th>mean</th>\n",
       "      <td>2008.341849</td>\n",
       "    </tr>\n",
       "    <tr>\n",
       "      <th>std</th>\n",
       "      <td>18.922482</td>\n",
       "    </tr>\n",
       "    <tr>\n",
       "      <th>min</th>\n",
       "      <td>1920.000000</td>\n",
       "    </tr>\n",
       "    <tr>\n",
       "      <th>25%</th>\n",
       "      <td>2007.000000</td>\n",
       "    </tr>\n",
       "    <tr>\n",
       "      <th>50%</th>\n",
       "      <td>2016.000000</td>\n",
       "    </tr>\n",
       "    <tr>\n",
       "      <th>75%</th>\n",
       "      <td>2019.000000</td>\n",
       "    </tr>\n",
       "    <tr>\n",
       "      <th>max</th>\n",
       "      <td>2021.000000</td>\n",
       "    </tr>\n",
       "  </tbody>\n",
       "</table>\n",
       "</div>"
      ],
      "text/plain": [
       "       release_year\n",
       "count   9668.000000\n",
       "mean    2008.341849\n",
       "std       18.922482\n",
       "min     1920.000000\n",
       "25%     2007.000000\n",
       "50%     2016.000000\n",
       "75%     2019.000000\n",
       "max     2021.000000"
      ]
     },
     "execution_count": 5,
     "metadata": {},
     "output_type": "execute_result"
    }
   ],
   "source": [
    "prime.describe()"
   ]
  },
  {
   "cell_type": "code",
   "execution_count": 6,
   "id": "cd4bdadd-4d34-424b-9aa5-6a793f9dafaa",
   "metadata": {},
   "outputs": [
    {
     "data": {
      "text/plain": [
       "show_id            0\n",
       "type               0\n",
       "title              0\n",
       "director        2083\n",
       "cast            1233\n",
       "country         8996\n",
       "date_added      9513\n",
       "release_year       0\n",
       "rating           337\n",
       "duration           0\n",
       "listed_in          0\n",
       "description        0\n",
       "dtype: int64"
      ]
     },
     "execution_count": 6,
     "metadata": {},
     "output_type": "execute_result"
    }
   ],
   "source": [
    "prime.isna().sum()"
   ]
  },
  {
   "cell_type": "code",
   "execution_count": 7,
   "id": "0c2f1857-9e8e-414e-a293-6af55b47c008",
   "metadata": {},
   "outputs": [],
   "source": [
    "prime['director'].fillna('Unknown',inplace=True)\n",
    "prime['cast'].fillna('Unknown',inplace=True)\n",
    "prime['country'].fillna('Unknown',inplace=True)\n",
    "prime['date_added'].fillna('Unknown',inplace=True)"
   ]
  },
  {
   "cell_type": "code",
   "execution_count": 8,
   "id": "8102ef19-0045-4437-bf97-9cea7c650a62",
   "metadata": {},
   "outputs": [
    {
     "data": {
      "text/plain": [
       "show_id           0\n",
       "type              0\n",
       "title             0\n",
       "director          0\n",
       "cast              0\n",
       "country           0\n",
       "date_added        0\n",
       "release_year      0\n",
       "rating          337\n",
       "duration          0\n",
       "listed_in         0\n",
       "description       0\n",
       "dtype: int64"
      ]
     },
     "execution_count": 8,
     "metadata": {},
     "output_type": "execute_result"
    }
   ],
   "source": [
    "prime.isna().sum()"
   ]
  },
  {
   "cell_type": "code",
   "execution_count": 9,
   "id": "3a101f0b-88e8-4678-b0e2-8517fa790293",
   "metadata": {},
   "outputs": [
    {
     "data": {
      "text/plain": [
       "array([nan, '13+', 'ALL', '18+', 'R', 'TV-Y', 'TV-Y7', 'NR', '16+',\n",
       "       'TV-PG', '7+', 'TV-14', 'TV-NR', 'TV-G', 'PG-13', 'TV-MA', 'G',\n",
       "       'PG', 'NC-17', 'UNRATED', '16', 'AGES_16_', 'AGES_18_', 'ALL_AGES',\n",
       "       'NOT_RATE'], dtype=object)"
      ]
     },
     "execution_count": 9,
     "metadata": {},
     "output_type": "execute_result"
    }
   ],
   "source": [
    "prime['rating'].unique()"
   ]
  },
  {
   "cell_type": "code",
   "execution_count": 10,
   "id": "e37fc8d9-f002-4642-ac3f-d18a3273396c",
   "metadata": {},
   "outputs": [],
   "source": [
    "prime['rating'].fillna('UNRATED',inplace=True)"
   ]
  },
  {
   "cell_type": "code",
   "execution_count": 11,
   "id": "d09f4674-bd7e-4c7b-8bc3-6f6c011ec30a",
   "metadata": {},
   "outputs": [
    {
     "data": {
      "text/plain": [
       "show_id         0\n",
       "type            0\n",
       "title           0\n",
       "director        0\n",
       "cast            0\n",
       "country         0\n",
       "date_added      0\n",
       "release_year    0\n",
       "rating          0\n",
       "duration        0\n",
       "listed_in       0\n",
       "description     0\n",
       "dtype: int64"
      ]
     },
     "execution_count": 11,
     "metadata": {},
     "output_type": "execute_result"
    }
   ],
   "source": [
    "prime.isna().sum()"
   ]
  },
  {
   "cell_type": "markdown",
   "id": "c9a3c6f9-3aab-4f79-8303-9209b88a37e8",
   "metadata": {},
   "source": [
    "# Types of Content"
   ]
  },
  {
   "cell_type": "code",
   "execution_count": 12,
   "id": "2e66b253-38f3-4692-9aa8-531f623f2a49",
   "metadata": {},
   "outputs": [
    {
     "data": {
      "text/plain": [
       "type\n",
       "Movie      7814\n",
       "TV Show    1854\n",
       "Name: count, dtype: int64"
      ]
     },
     "execution_count": 12,
     "metadata": {},
     "output_type": "execute_result"
    }
   ],
   "source": [
    "prime['type'].value_counts()"
   ]
  },
  {
   "cell_type": "code",
   "execution_count": 13,
   "id": "debcd4d2-e9a1-42ac-bcfb-e1c1790d389f",
   "metadata": {},
   "outputs": [
    {
     "data": {
      "text/plain": [
       "array([7814, 1854], dtype=int64)"
      ]
     },
     "execution_count": 13,
     "metadata": {},
     "output_type": "execute_result"
    }
   ],
   "source": [
    "prime['type'].value_counts().values"
   ]
  },
  {
   "cell_type": "code",
   "execution_count": 14,
   "id": "63110d37-152e-4b85-8a2c-04e37455ce1a",
   "metadata": {},
   "outputs": [
    {
     "data": {
      "text/plain": [
       "Index(['Movie', 'TV Show'], dtype='object', name='type')"
      ]
     },
     "execution_count": 14,
     "metadata": {},
     "output_type": "execute_result"
    }
   ],
   "source": [
    "prime['type'].value_counts().index"
   ]
  },
  {
   "cell_type": "code",
   "execution_count": 15,
   "id": "dd28b112-bf39-4f59-a134-5b2acb9c63d1",
   "metadata": {},
   "outputs": [
    {
     "data": {
      "text/plain": [
       "array(['Movie', 'TV Show'], dtype=object)"
      ]
     },
     "execution_count": 15,
     "metadata": {},
     "output_type": "execute_result"
    }
   ],
   "source": [
    "prime['type'].unique()"
   ]
  },
  {
   "cell_type": "code",
   "execution_count": 16,
   "id": "3e086607-d0f7-47ea-8057-e0d12c45698d",
   "metadata": {},
   "outputs": [
    {
     "data": {
      "text/plain": [
       "Text(0.5, 1.0, 'Type of Content')"
      ]
     },
     "execution_count": 16,
     "metadata": {},
     "output_type": "execute_result"
    },
    {
     "data": {
      "image/png": "[encoded data removed]",
      "text/plain": [
       "<Figure size 500x300 with 1 Axes>"
      ]
     },
     "metadata": {},
     "output_type": "display_data"
    }
   ],
   "source": [
    "plt.style.use('seaborn-v0_8-whitegrid')\n",
    "plt.figure(figsize=(5,3))\n",
    "sns.countplot(x = 'type',data = prime,palette=['lightgreen','lightblue'])\n",
    "plt.title(\"Type of Content\")"
   ]
  },
  {
   "cell_type": "code",
   "execution_count": 17,
   "id": "9b8cddb3-5cf6-49e7-b9a4-cd87d08f035f",
   "metadata": {},
   "outputs": [
    {
     "data": {
      "text/plain": [
       "['Solarize_Light2',\n",
       " '_classic_test_patch',\n",
       " '_mpl-gallery',\n",
       " '_mpl-gallery-nogrid',\n",
       " 'bmh',\n",
       " 'classic',\n",
       " 'dark_background',\n",
       " 'fast',\n",
       " 'fivethirtyeight',\n",
       " 'ggplot',\n",
       " 'grayscale',\n",
       " 'seaborn-v0_8',\n",
       " 'seaborn-v0_8-bright',\n",
       " 'seaborn-v0_8-colorblind',\n",
       " 'seaborn-v0_8-dark',\n",
       " 'seaborn-v0_8-dark-palette',\n",
       " 'seaborn-v0_8-darkgrid',\n",
       " 'seaborn-v0_8-deep',\n",
       " 'seaborn-v0_8-muted',\n",
       " 'seaborn-v0_8-notebook',\n",
       " 'seaborn-v0_8-paper',\n",
       " 'seaborn-v0_8-pastel',\n",
       " 'seaborn-v0_8-poster',\n",
       " 'seaborn-v0_8-talk',\n",
       " 'seaborn-v0_8-ticks',\n",
       " 'seaborn-v0_8-white',\n",
       " 'seaborn-v0_8-whitegrid',\n",
       " 'tableau-colorblind10']"
      ]
     },
     "execution_count": 17,
     "metadata": {},
     "output_type": "execute_result"
    }
   ],
   "source": [
    "plt.style.available"
   ]
  },
  {
   "cell_type": "code",
   "execution_count": 18,
   "id": "f52ce176-b85a-464f-a120-1f11815fc41d",
   "metadata": {},
   "outputs": [
    {
     "data": {
      "image/png": "[encoded data removed]",
      "text/plain": [
       "<Figure size 600x400 with 1 Axes>"
      ]
     },
     "metadata": {},
     "output_type": "display_data"
    }
   ],
   "source": [
    "plt.figure(figsize=(6,4))\n",
    "plt.pie(x = prime['type'].value_counts().values,\n",
    "        labels= prime['type'].value_counts().index,\n",
    "        autopct = '%.2f',\n",
    "        colors=['lightgreen','lightblue'],\n",
    "        shadow = True ,\n",
    "        explode = [0.0,0.1])\n",
    "plt.title(\"Types of content\")\n",
    "plt.legend()\n",
    "plt.show()"
   ]
  },
  {
   "cell_type": "markdown",
   "id": "9a3e9393-a149-490c-9d21-2fb673ef97cb",
   "metadata": {},
   "source": [
    "# Release Year(History of decade)"
   ]
  },
  {
   "cell_type": "code",
   "execution_count": 19,
   "id": "afbddd22-29a1-42c0-9430-cd5e9f2b93e3",
   "metadata": {},
   "outputs": [
    {
     "data": {
      "text/plain": [
       "array([2014, 2018, 2017, 1989, 2016, 1994, 2020, 2019, 2008, 2001, 1941,\n",
       "       1991, 2005, 2015, 2011, 2013, 1949, 2007, 2002, 1955, 1959, 1983,\n",
       "       2009, 2012, 2010, 1986, 1988, 1920, 1936, 1992, 2021, 1993, 2006,\n",
       "       1948, 1946, 1944, 1935, 1985, 1937, 1970, 1945, 1939, 1996, 1997,\n",
       "       1974, 1938, 1978, 2004, 1943, 1975, 1960, 1934, 1940, 1961, 2003,\n",
       "       2000, 1967, 1995, 1951, 1932, 1999, 1963, 1969, 1952, 1947, 1929,\n",
       "       1990, 1925, 1968, 1987, 1942, 1979, 1980, 1981, 1976, 1966, 1973,\n",
       "       1956, 1972, 1950, 1953, 1982, 1977, 1933, 1958, 1984, 1998, 1924,\n",
       "       1922, 1926, 1954, 1930, 1971, 1965, 1931, 1923, 1962, 1964, 1957,\n",
       "       1927], dtype=int64)"
      ]
     },
     "execution_count": 19,
     "metadata": {},
     "output_type": "execute_result"
    }
   ],
   "source": [
    "prime['release_year'].unique()"
   ]
  },
  {
   "cell_type": "code",
   "execution_count": 20,
   "id": "2fbbe882-bad9-4c13-b7a9-200b739f3619",
   "metadata": {},
   "outputs": [
    {
     "data": {
      "text/html": [
       "<div>\n",
       "<style scoped>\n",
       "    .dataframe tbody tr th:only-of-type {\n",
       "        vertical-align: middle;\n",
       "    }\n",
       "\n",
       "    .dataframe tbody tr th {\n",
       "        vertical-align: top;\n",
       "    }\n",
       "\n",
       "    .dataframe thead th {\n",
       "        text-align: right;\n",
       "    }\n",
       "</style>\n",
       "<table border=\"1\" class=\"dataframe\">\n",
       "  <thead>\n",
       "    <tr style=\"text-align: right;\">\n",
       "      <th></th>\n",
       "      <th>show_id</th>\n",
       "      <th>type</th>\n",
       "      <th>title</th>\n",
       "      <th>director</th>\n",
       "      <th>cast</th>\n",
       "      <th>country</th>\n",
       "      <th>date_added</th>\n",
       "      <th>release_year</th>\n",
       "      <th>rating</th>\n",
       "      <th>duration</th>\n",
       "      <th>listed_in</th>\n",
       "      <th>description</th>\n",
       "    </tr>\n",
       "  </thead>\n",
       "  <tbody>\n",
       "    <tr>\n",
       "      <th>0</th>\n",
       "      <td>s1</td>\n",
       "      <td>Movie</td>\n",
       "      <td>The Grand Seduction</td>\n",
       "      <td>Don McKellar</td>\n",
       "      <td>Brendan Gleeson, Taylor Kitsch, Gordon Pinsent</td>\n",
       "      <td>Canada</td>\n",
       "      <td>March 30, 2021</td>\n",
       "      <td>2014</td>\n",
       "      <td>UNRATED</td>\n",
       "      <td>113 min</td>\n",
       "      <td>Comedy, Drama</td>\n",
       "      <td>A small fishing village must procure a local d...</td>\n",
       "    </tr>\n",
       "    <tr>\n",
       "      <th>1</th>\n",
       "      <td>s2</td>\n",
       "      <td>Movie</td>\n",
       "      <td>Take Care Good Night</td>\n",
       "      <td>Girish Joshi</td>\n",
       "      <td>Mahesh Manjrekar, Abhay Mahajan, Sachin Khedekar</td>\n",
       "      <td>India</td>\n",
       "      <td>March 30, 2021</td>\n",
       "      <td>2018</td>\n",
       "      <td>13+</td>\n",
       "      <td>110 min</td>\n",
       "      <td>Drama, International</td>\n",
       "      <td>A Metro Family decides to fight a Cyber Crimin...</td>\n",
       "    </tr>\n",
       "    <tr>\n",
       "      <th>2</th>\n",
       "      <td>s3</td>\n",
       "      <td>Movie</td>\n",
       "      <td>Secrets of Deception</td>\n",
       "      <td>Josh Webber</td>\n",
       "      <td>Tom Sizemore, Lorenzo Lamas, Robert LaSardo, R...</td>\n",
       "      <td>United States</td>\n",
       "      <td>March 30, 2021</td>\n",
       "      <td>2017</td>\n",
       "      <td>UNRATED</td>\n",
       "      <td>74 min</td>\n",
       "      <td>Action, Drama, Suspense</td>\n",
       "      <td>After a man discovers his wife is cheating on ...</td>\n",
       "    </tr>\n",
       "    <tr>\n",
       "      <th>3</th>\n",
       "      <td>s4</td>\n",
       "      <td>Movie</td>\n",
       "      <td>Pink: Staying True</td>\n",
       "      <td>Sonia Anderson</td>\n",
       "      <td>Interviews with: Pink, Adele, Beyoncé, Britney...</td>\n",
       "      <td>United States</td>\n",
       "      <td>March 30, 2021</td>\n",
       "      <td>2014</td>\n",
       "      <td>UNRATED</td>\n",
       "      <td>69 min</td>\n",
       "      <td>Documentary</td>\n",
       "      <td>Pink breaks the mold once again, bringing her ...</td>\n",
       "    </tr>\n",
       "    <tr>\n",
       "      <th>6</th>\n",
       "      <td>s7</td>\n",
       "      <td>Movie</td>\n",
       "      <td>Hired Gun</td>\n",
       "      <td>Fran Strine</td>\n",
       "      <td>Alice Cooper, Liberty DeVitto, Ray Parker Jr.,...</td>\n",
       "      <td>United States</td>\n",
       "      <td>March 30, 2021</td>\n",
       "      <td>2017</td>\n",
       "      <td>UNRATED</td>\n",
       "      <td>98 min</td>\n",
       "      <td>Documentary, Special Interest</td>\n",
       "      <td>They are the \"First Call, A-list\" musicians, j...</td>\n",
       "    </tr>\n",
       "    <tr>\n",
       "      <th>...</th>\n",
       "      <td>...</td>\n",
       "      <td>...</td>\n",
       "      <td>...</td>\n",
       "      <td>...</td>\n",
       "      <td>...</td>\n",
       "      <td>...</td>\n",
       "      <td>...</td>\n",
       "      <td>...</td>\n",
       "      <td>...</td>\n",
       "      <td>...</td>\n",
       "      <td>...</td>\n",
       "      <td>...</td>\n",
       "    </tr>\n",
       "    <tr>\n",
       "      <th>9657</th>\n",
       "      <td>s9658</td>\n",
       "      <td>Movie</td>\n",
       "      <td>A Place at the Table</td>\n",
       "      <td>Kristi Jacobson, Lori Silverbush</td>\n",
       "      <td>Jeff Bridges, Tom Colicchio</td>\n",
       "      <td>Unknown</td>\n",
       "      <td>Unknown</td>\n",
       "      <td>2013</td>\n",
       "      <td>PG</td>\n",
       "      <td>84 min</td>\n",
       "      <td>Documentary, Special Interest</td>\n",
       "      <td>The next chapter on America's food crisis from...</td>\n",
       "    </tr>\n",
       "    <tr>\n",
       "      <th>9660</th>\n",
       "      <td>s9661</td>\n",
       "      <td>Movie</td>\n",
       "      <td>The Man in the Hat</td>\n",
       "      <td>John-Paul Davidson, Stephen Warbeck</td>\n",
       "      <td>Ciaran Hinds, Stephen Dillane, Maïwenn</td>\n",
       "      <td>Unknown</td>\n",
       "      <td>Unknown</td>\n",
       "      <td>2021</td>\n",
       "      <td>13+</td>\n",
       "      <td>96 min</td>\n",
       "      <td>Comedy</td>\n",
       "      <td>The Man in the Hat journeys through France in ...</td>\n",
       "    </tr>\n",
       "    <tr>\n",
       "      <th>9662</th>\n",
       "      <td>s9663</td>\n",
       "      <td>Movie</td>\n",
       "      <td>River</td>\n",
       "      <td>Emily Skye</td>\n",
       "      <td>Mary Cameron Rogers, Alexandra Rose, Rob Marsh...</td>\n",
       "      <td>Unknown</td>\n",
       "      <td>Unknown</td>\n",
       "      <td>2021</td>\n",
       "      <td>16+</td>\n",
       "      <td>93 min</td>\n",
       "      <td>Drama, Science Fiction, Suspense</td>\n",
       "      <td>River is a grounded Sci-Fi mystery Thriller, t...</td>\n",
       "    </tr>\n",
       "    <tr>\n",
       "      <th>9664</th>\n",
       "      <td>s9665</td>\n",
       "      <td>TV Show</td>\n",
       "      <td>Planet Patrol</td>\n",
       "      <td>Unknown</td>\n",
       "      <td>DICK VOSBURGH, RONNIE STEVENS, LIBBY MORRIS, M...</td>\n",
       "      <td>Unknown</td>\n",
       "      <td>Unknown</td>\n",
       "      <td>2018</td>\n",
       "      <td>13+</td>\n",
       "      <td>4 Seasons</td>\n",
       "      <td>TV Shows</td>\n",
       "      <td>This is Earth, 2100AD - and these are the adve...</td>\n",
       "    </tr>\n",
       "    <tr>\n",
       "      <th>9666</th>\n",
       "      <td>s9667</td>\n",
       "      <td>TV Show</td>\n",
       "      <td>Maradona: Blessed Dream</td>\n",
       "      <td>Unknown</td>\n",
       "      <td>Esteban Recagno, Ezequiel Stremiz, Luciano Vit...</td>\n",
       "      <td>Unknown</td>\n",
       "      <td>Unknown</td>\n",
       "      <td>2021</td>\n",
       "      <td>TV-MA</td>\n",
       "      <td>1 Season</td>\n",
       "      <td>Drama, Sports</td>\n",
       "      <td>The series tells the story of Diego Maradona, ...</td>\n",
       "    </tr>\n",
       "  </tbody>\n",
       "</table>\n",
       "<p>6097 rows × 12 columns</p>\n",
       "</div>"
      ],
      "text/plain": [
       "     show_id     type                    title  \\\n",
       "0         s1    Movie      The Grand Seduction   \n",
       "1         s2    Movie     Take Care Good Night   \n",
       "2         s3    Movie     Secrets of Deception   \n",
       "3         s4    Movie       Pink: Staying True   \n",
       "6         s7    Movie                Hired Gun   \n",
       "...      ...      ...                      ...   \n",
       "9657   s9658    Movie     A Place at the Table   \n",
       "9660   s9661    Movie       The Man in the Hat   \n",
       "9662   s9663    Movie                    River   \n",
       "9664   s9665  TV Show            Planet Patrol   \n",
       "9666   s9667  TV Show  Maradona: Blessed Dream   \n",
       "\n",
       "                                 director  \\\n",
       "0                            Don McKellar   \n",
       "1                            Girish Joshi   \n",
       "2                             Josh Webber   \n",
       "3                          Sonia Anderson   \n",
       "6                             Fran Strine   \n",
       "...                                   ...   \n",
       "9657     Kristi Jacobson, Lori Silverbush   \n",
       "9660  John-Paul Davidson, Stephen Warbeck   \n",
       "9662                           Emily Skye   \n",
       "9664                              Unknown   \n",
       "9666                              Unknown   \n",
       "\n",
       "                                                   cast        country  \\\n",
       "0        Brendan Gleeson, Taylor Kitsch, Gordon Pinsent         Canada   \n",
       "1      Mahesh Manjrekar, Abhay Mahajan, Sachin Khedekar          India   \n",
       "2     Tom Sizemore, Lorenzo Lamas, Robert LaSardo, R...  United States   \n",
       "3     Interviews with: Pink, Adele, Beyoncé, Britney...  United States   \n",
       "6     Alice Cooper, Liberty DeVitto, Ray Parker Jr.,...  United States   \n",
       "...                                                 ...            ...   \n",
       "9657                        Jeff Bridges, Tom Colicchio        Unknown   \n",
       "9660             Ciaran Hinds, Stephen Dillane, Maïwenn        Unknown   \n",
       "9662  Mary Cameron Rogers, Alexandra Rose, Rob Marsh...        Unknown   \n",
       "9664  DICK VOSBURGH, RONNIE STEVENS, LIBBY MORRIS, M...        Unknown   \n",
       "9666  Esteban Recagno, Ezequiel Stremiz, Luciano Vit...        Unknown   \n",
       "\n",
       "          date_added  release_year   rating   duration  \\\n",
       "0     March 30, 2021          2014  UNRATED    113 min   \n",
       "1     March 30, 2021          2018      13+    110 min   \n",
       "2     March 30, 2021          2017  UNRATED     74 min   \n",
       "3     March 30, 2021          2014  UNRATED     69 min   \n",
       "6     March 30, 2021          2017  UNRATED     98 min   \n",
       "...              ...           ...      ...        ...   \n",
       "9657         Unknown          2013       PG     84 min   \n",
       "9660         Unknown          2021      13+     96 min   \n",
       "9662         Unknown          2021      16+     93 min   \n",
       "9664         Unknown          2018      13+  4 Seasons   \n",
       "9666         Unknown          2021    TV-MA   1 Season   \n",
       "\n",
       "                             listed_in  \\\n",
       "0                        Comedy, Drama   \n",
       "1                 Drama, International   \n",
       "2              Action, Drama, Suspense   \n",
       "3                          Documentary   \n",
       "6        Documentary, Special Interest   \n",
       "...                                ...   \n",
       "9657     Documentary, Special Interest   \n",
       "9660                            Comedy   \n",
       "9662  Drama, Science Fiction, Suspense   \n",
       "9664                          TV Shows   \n",
       "9666                     Drama, Sports   \n",
       "\n",
       "                                            description  \n",
       "0     A small fishing village must procure a local d...  \n",
       "1     A Metro Family decides to fight a Cyber Crimin...  \n",
       "2     After a man discovers his wife is cheating on ...  \n",
       "3     Pink breaks the mold once again, bringing her ...  \n",
       "6     They are the \"First Call, A-list\" musicians, j...  \n",
       "...                                                 ...  \n",
       "9657  The next chapter on America's food crisis from...  \n",
       "9660  The Man in the Hat journeys through France in ...  \n",
       "9662  River is a grounded Sci-Fi mystery Thriller, t...  \n",
       "9664  This is Earth, 2100AD - and these are the adve...  \n",
       "9666  The series tells the story of Diego Maradona, ...  \n",
       "\n",
       "[6097 rows x 12 columns]"
      ]
     },
     "execution_count": 20,
     "metadata": {},
     "output_type": "execute_result"
    }
   ],
   "source": [
    "prime[prime['release_year']>=2013]"
   ]
  },
  {
   "cell_type": "code",
   "execution_count": 21,
   "id": "fe836699-6da2-4bab-b4b6-436bd9740083",
   "metadata": {},
   "outputs": [],
   "source": [
    "last_decade = prime[[\"type\",\"release_year\"]]\n",
    "last_decade = last_decade.rename(columns = {\"release_year\":\"Release Year\"})"
   ]
  },
  {
   "cell_type": "code",
   "execution_count": 22,
   "id": "54a1d2cf-e7ca-4162-834d-02cdfb5e062b",
   "metadata": {},
   "outputs": [
    {
     "data": {
      "text/html": [
       "<div>\n",
       "<style scoped>\n",
       "    .dataframe tbody tr th:only-of-type {\n",
       "        vertical-align: middle;\n",
       "    }\n",
       "\n",
       "    .dataframe tbody tr th {\n",
       "        vertical-align: top;\n",
       "    }\n",
       "\n",
       "    .dataframe thead th {\n",
       "        text-align: right;\n",
       "    }\n",
       "</style>\n",
       "<table border=\"1\" class=\"dataframe\">\n",
       "  <thead>\n",
       "    <tr style=\"text-align: right;\">\n",
       "      <th></th>\n",
       "      <th>type</th>\n",
       "      <th>Release Year</th>\n",
       "    </tr>\n",
       "  </thead>\n",
       "  <tbody>\n",
       "    <tr>\n",
       "      <th>0</th>\n",
       "      <td>Movie</td>\n",
       "      <td>2014</td>\n",
       "    </tr>\n",
       "    <tr>\n",
       "      <th>1</th>\n",
       "      <td>Movie</td>\n",
       "      <td>2018</td>\n",
       "    </tr>\n",
       "    <tr>\n",
       "      <th>2</th>\n",
       "      <td>Movie</td>\n",
       "      <td>2017</td>\n",
       "    </tr>\n",
       "    <tr>\n",
       "      <th>3</th>\n",
       "      <td>Movie</td>\n",
       "      <td>2014</td>\n",
       "    </tr>\n",
       "    <tr>\n",
       "      <th>6</th>\n",
       "      <td>Movie</td>\n",
       "      <td>2017</td>\n",
       "    </tr>\n",
       "    <tr>\n",
       "      <th>...</th>\n",
       "      <td>...</td>\n",
       "      <td>...</td>\n",
       "    </tr>\n",
       "    <tr>\n",
       "      <th>9657</th>\n",
       "      <td>Movie</td>\n",
       "      <td>2013</td>\n",
       "    </tr>\n",
       "    <tr>\n",
       "      <th>9660</th>\n",
       "      <td>Movie</td>\n",
       "      <td>2021</td>\n",
       "    </tr>\n",
       "    <tr>\n",
       "      <th>9662</th>\n",
       "      <td>Movie</td>\n",
       "      <td>2021</td>\n",
       "    </tr>\n",
       "    <tr>\n",
       "      <th>9664</th>\n",
       "      <td>TV Show</td>\n",
       "      <td>2018</td>\n",
       "    </tr>\n",
       "    <tr>\n",
       "      <th>9666</th>\n",
       "      <td>TV Show</td>\n",
       "      <td>2021</td>\n",
       "    </tr>\n",
       "  </tbody>\n",
       "</table>\n",
       "<p>6097 rows × 2 columns</p>\n",
       "</div>"
      ],
      "text/plain": [
       "         type  Release Year\n",
       "0       Movie          2014\n",
       "1       Movie          2018\n",
       "2       Movie          2017\n",
       "3       Movie          2014\n",
       "6       Movie          2017\n",
       "...       ...           ...\n",
       "9657    Movie          2013\n",
       "9660    Movie          2021\n",
       "9662    Movie          2021\n",
       "9664  TV Show          2018\n",
       "9666  TV Show          2021\n",
       "\n",
       "[6097 rows x 2 columns]"
      ]
     },
     "execution_count": 22,
     "metadata": {},
     "output_type": "execute_result"
    }
   ],
   "source": [
    "last_decade = last_decade[last_decade[\"Release Year\"] >= 2013]\n",
    "last_decade"
   ]
  },
  {
   "cell_type": "code",
   "execution_count": 23,
   "id": "0f96bc17-536a-4052-922e-3ad7d02fcc4f",
   "metadata": {},
   "outputs": [
    {
     "data": {
      "text/html": [
       "<div>\n",
       "<style scoped>\n",
       "    .dataframe tbody tr th:only-of-type {\n",
       "        vertical-align: middle;\n",
       "    }\n",
       "\n",
       "    .dataframe tbody tr th {\n",
       "        vertical-align: top;\n",
       "    }\n",
       "\n",
       "    .dataframe thead th {\n",
       "        text-align: right;\n",
       "    }\n",
       "</style>\n",
       "<table border=\"1\" class=\"dataframe\">\n",
       "  <thead>\n",
       "    <tr style=\"text-align: right;\">\n",
       "      <th></th>\n",
       "      <th>Release Year</th>\n",
       "      <th>type</th>\n",
       "    </tr>\n",
       "  </thead>\n",
       "  <tbody>\n",
       "    <tr>\n",
       "      <th>0</th>\n",
       "      <td>2013</td>\n",
       "      <td>289</td>\n",
       "    </tr>\n",
       "    <tr>\n",
       "      <th>1</th>\n",
       "      <td>2014</td>\n",
       "      <td>391</td>\n",
       "    </tr>\n",
       "    <tr>\n",
       "      <th>2</th>\n",
       "      <td>2015</td>\n",
       "      <td>378</td>\n",
       "    </tr>\n",
       "    <tr>\n",
       "      <th>3</th>\n",
       "      <td>2016</td>\n",
       "      <td>521</td>\n",
       "    </tr>\n",
       "    <tr>\n",
       "      <th>4</th>\n",
       "      <td>2017</td>\n",
       "      <td>562</td>\n",
       "    </tr>\n",
       "    <tr>\n",
       "      <th>5</th>\n",
       "      <td>2018</td>\n",
       "      <td>623</td>\n",
       "    </tr>\n",
       "    <tr>\n",
       "      <th>6</th>\n",
       "      <td>2019</td>\n",
       "      <td>929</td>\n",
       "    </tr>\n",
       "    <tr>\n",
       "      <th>7</th>\n",
       "      <td>2020</td>\n",
       "      <td>962</td>\n",
       "    </tr>\n",
       "    <tr>\n",
       "      <th>8</th>\n",
       "      <td>2021</td>\n",
       "      <td>1442</td>\n",
       "    </tr>\n",
       "  </tbody>\n",
       "</table>\n",
       "</div>"
      ],
      "text/plain": [
       "   Release Year  type\n",
       "0          2013   289\n",
       "1          2014   391\n",
       "2          2015   378\n",
       "3          2016   521\n",
       "4          2017   562\n",
       "5          2018   623\n",
       "6          2019   929\n",
       "7          2020   962\n",
       "8          2021  1442"
      ]
     },
     "execution_count": 23,
     "metadata": {},
     "output_type": "execute_result"
    }
   ],
   "source": [
    "last_decade_df = last_decade.groupby(\"Release Year\")['type'].count().reset_index()\n",
    "last_decade_df = pd.DataFrame(last_decade_df)\n",
    "last_decade_df "
   ]
  },
  {
   "cell_type": "code",
   "execution_count": 24,
   "id": "52437d08-2947-41bc-8d12-ebe89950e57c",
   "metadata": {},
   "outputs": [],
   "source": [
    "last_decade_df.rename(columns={\"type\":'Total content'},inplace = True)"
   ]
  },
  {
   "cell_type": "code",
   "execution_count": 25,
   "id": "67658bc3-8a95-4b95-ad03-28e5a17fc8e2",
   "metadata": {},
   "outputs": [
    {
     "data": {
      "text/html": [
       "<div>\n",
       "<style scoped>\n",
       "    .dataframe tbody tr th:only-of-type {\n",
       "        vertical-align: middle;\n",
       "    }\n",
       "\n",
       "    .dataframe tbody tr th {\n",
       "        vertical-align: top;\n",
       "    }\n",
       "\n",
       "    .dataframe thead th {\n",
       "        text-align: right;\n",
       "    }\n",
       "</style>\n",
       "<table border=\"1\" class=\"dataframe\">\n",
       "  <thead>\n",
       "    <tr style=\"text-align: right;\">\n",
       "      <th></th>\n",
       "      <th>Release Year</th>\n",
       "      <th>Total content</th>\n",
       "    </tr>\n",
       "  </thead>\n",
       "  <tbody>\n",
       "    <tr>\n",
       "      <th>0</th>\n",
       "      <td>2013</td>\n",
       "      <td>289</td>\n",
       "    </tr>\n",
       "    <tr>\n",
       "      <th>1</th>\n",
       "      <td>2014</td>\n",
       "      <td>391</td>\n",
       "    </tr>\n",
       "    <tr>\n",
       "      <th>2</th>\n",
       "      <td>2015</td>\n",
       "      <td>378</td>\n",
       "    </tr>\n",
       "    <tr>\n",
       "      <th>3</th>\n",
       "      <td>2016</td>\n",
       "      <td>521</td>\n",
       "    </tr>\n",
       "    <tr>\n",
       "      <th>4</th>\n",
       "      <td>2017</td>\n",
       "      <td>562</td>\n",
       "    </tr>\n",
       "    <tr>\n",
       "      <th>5</th>\n",
       "      <td>2018</td>\n",
       "      <td>623</td>\n",
       "    </tr>\n",
       "    <tr>\n",
       "      <th>6</th>\n",
       "      <td>2019</td>\n",
       "      <td>929</td>\n",
       "    </tr>\n",
       "    <tr>\n",
       "      <th>7</th>\n",
       "      <td>2020</td>\n",
       "      <td>962</td>\n",
       "    </tr>\n",
       "    <tr>\n",
       "      <th>8</th>\n",
       "      <td>2021</td>\n",
       "      <td>1442</td>\n",
       "    </tr>\n",
       "  </tbody>\n",
       "</table>\n",
       "</div>"
      ],
      "text/plain": [
       "   Release Year  Total content\n",
       "0          2013            289\n",
       "1          2014            391\n",
       "2          2015            378\n",
       "3          2016            521\n",
       "4          2017            562\n",
       "5          2018            623\n",
       "6          2019            929\n",
       "7          2020            962\n",
       "8          2021           1442"
      ]
     },
     "execution_count": 25,
     "metadata": {},
     "output_type": "execute_result"
    }
   ],
   "source": [
    "last_decade_df"
   ]
  },
  {
   "cell_type": "code",
   "execution_count": 26,
   "id": "66a039eb-b037-4106-adae-85491bd79a89",
   "metadata": {},
   "outputs": [
    {
     "data": {
      "text/plain": [
       "Release Year  type   \n",
       "2013          Movie       227\n",
       "              TV Show      62\n",
       "2014          Movie       295\n",
       "              TV Show      96\n",
       "2015          Movie       282\n",
       "              TV Show      96\n",
       "2016          Movie       402\n",
       "              TV Show     119\n",
       "2017          Movie       404\n",
       "              TV Show     158\n",
       "2018          Movie       438\n",
       "              TV Show     185\n",
       "2019          Movie       730\n",
       "              TV Show     199\n",
       "2020          Movie       736\n",
       "              TV Show     226\n",
       "2021          Movie      1139\n",
       "              TV Show     303\n",
       "Name: count, dtype: int64"
      ]
     },
     "execution_count": 26,
     "metadata": {},
     "output_type": "execute_result"
    }
   ],
   "source": [
    "last_decade.groupby(\"Release Year\")[\"type\"].value_counts()"
   ]
  },
  {
   "cell_type": "code",
   "execution_count": 27,
   "id": "39311231-db64-42b4-b94f-d18cb1d9c9ed",
   "metadata": {},
   "outputs": [
    {
     "data": {
      "image/png": "[encoded data removed]",
      "text/plain": [
       "<Figure size 500x300 with 1 Axes>"
      ]
     },
     "metadata": {},
     "output_type": "display_data"
    }
   ],
   "source": [
    "plt.figure(figsize=(5,3))\n",
    "sns.countplot(x = \"Release Year\",data = last_decade,hue = \"type\",palette = ['green','lightblue'])\n",
    "plt.title(\"Trend of each type of content Released over the years\")\n",
    "plt.show()"
   ]
  },
  {
   "cell_type": "code",
   "execution_count": 28,
   "id": "ca2d4d62-66c5-4ca7-bf29-4038de4bcd50",
   "metadata": {},
   "outputs": [
    {
     "data": {
      "image/png": "[encoded data removed]",
      "text/plain": [
       "<Figure size 500x300 with 1 Axes>"
      ]
     },
     "metadata": {},
     "output_type": "display_data"
    }
   ],
   "source": [
    "plt.figure(figsize=(5,3))\n",
    "sns.lineplot(x ='Release Year',y= \"Total content\",data = last_decade_df,color = 'brown',marker = 'o')\n",
    "plt.title(\"Trend over the years on Prime\")\n",
    "plt.show()"
   ]
  },
  {
   "cell_type": "markdown",
   "id": "138e5b73-a2a6-4804-ac8e-9fe739e0c836",
   "metadata": {},
   "source": [
    "# Countries"
   ]
  },
  {
   "cell_type": "code",
   "execution_count": 29,
   "id": "1dbfb377-641e-4faf-a41d-fe62923079be",
   "metadata": {},
   "outputs": [
    {
     "data": {
      "text/html": [
       "<div>\n",
       "<style scoped>\n",
       "    .dataframe tbody tr th:only-of-type {\n",
       "        vertical-align: middle;\n",
       "    }\n",
       "\n",
       "    .dataframe tbody tr th {\n",
       "        vertical-align: top;\n",
       "    }\n",
       "\n",
       "    .dataframe thead th {\n",
       "        text-align: right;\n",
       "    }\n",
       "</style>\n",
       "<table border=\"1\" class=\"dataframe\">\n",
       "  <thead>\n",
       "    <tr style=\"text-align: right;\">\n",
       "      <th></th>\n",
       "      <th>count</th>\n",
       "    </tr>\n",
       "    <tr>\n",
       "      <th>country</th>\n",
       "      <th></th>\n",
       "    </tr>\n",
       "  </thead>\n",
       "  <tbody>\n",
       "    <tr>\n",
       "      <th>Unknown</th>\n",
       "      <td>8996</td>\n",
       "    </tr>\n",
       "    <tr>\n",
       "      <th>United States</th>\n",
       "      <td>253</td>\n",
       "    </tr>\n",
       "    <tr>\n",
       "      <th>India</th>\n",
       "      <td>229</td>\n",
       "    </tr>\n",
       "    <tr>\n",
       "      <th>United Kingdom</th>\n",
       "      <td>28</td>\n",
       "    </tr>\n",
       "    <tr>\n",
       "      <th>Canada</th>\n",
       "      <td>16</td>\n",
       "    </tr>\n",
       "    <tr>\n",
       "      <th>United Kingdom, United States</th>\n",
       "      <td>12</td>\n",
       "    </tr>\n",
       "    <tr>\n",
       "      <th>Spain</th>\n",
       "      <td>8</td>\n",
       "    </tr>\n",
       "    <tr>\n",
       "      <th>Italy</th>\n",
       "      <td>8</td>\n",
       "    </tr>\n",
       "    <tr>\n",
       "      <th>Canada, United States</th>\n",
       "      <td>7</td>\n",
       "    </tr>\n",
       "    <tr>\n",
       "      <th>United States, United Kingdom</th>\n",
       "      <td>6</td>\n",
       "    </tr>\n",
       "  </tbody>\n",
       "</table>\n",
       "</div>"
      ],
      "text/plain": [
       "                               count\n",
       "country                             \n",
       "Unknown                         8996\n",
       "United States                    253\n",
       "India                            229\n",
       "United Kingdom                    28\n",
       "Canada                            16\n",
       "United Kingdom, United States     12\n",
       "Spain                              8\n",
       "Italy                              8\n",
       "Canada, United States              7\n",
       "United States, United Kingdom      6"
      ]
     },
     "execution_count": 29,
     "metadata": {},
     "output_type": "execute_result"
    }
   ],
   "source": [
    "#prime\n",
    "top10_cnt = prime['country'].value_counts().head(10)\n",
    "top10_cnt = pd.DataFrame(top10_cnt)\n",
    "top10_cnt"
   ]
  },
  {
   "cell_type": "markdown",
   "id": "af4f7723-f43f-455b-a514-cdd71746530d",
   "metadata": {},
   "source": [
    "### we not including Unknown country CONTENT"
   ]
  },
  {
   "cell_type": "code",
   "execution_count": 30,
   "id": "c7f8cfb8-a724-4b10-85f6-4e3ebd99a681",
   "metadata": {},
   "outputs": [
    {
     "data": {
      "text/plain": [
       "Text(0.5, 1.0, 'Content From different countries')"
      ]
     },
     "execution_count": 30,
     "metadata": {},
     "output_type": "execute_result"
    },
    {
     "data": {
      "image/png": "[encoded data removed]",
      "text/plain": [
       "<Figure size 500x300 with 1 Axes>"
      ]
     },
     "metadata": {},
     "output_type": "display_data"
    }
   ],
   "source": [
    "plt.figure(figsize=(5,3))\n",
    "plot = sns.barplot(x = 'count',y = 'country',data= top10_cnt[1:],hue =\"country\",palette=\"pastel\")\n",
    "for i in plot.containers:\n",
    "    plot.bar_label(i)\n",
    "plt.title(\"Content From different countries\")"
   ]
  },
  {
   "cell_type": "markdown",
   "id": "b4d423d8-f0c3-4777-8627-6b13a15e9942",
   "metadata": {},
   "source": [
    "ANALYSIS1: Maximum Content are uploaded from Unknown Countries "
   ]
  },
  {
   "cell_type": "markdown",
   "id": "1837f77f-d177-4a7e-9c9c-c1b85297b45a",
   "metadata": {},
   "source": [
    "ANALYSIS2:Then after mentioned countries maximum Content are uploaded from  United states (alone contribution of 37.64% in comparision to other mentioned countries)"
   ]
  },
  {
   "cell_type": "markdown",
   "id": "6dbbb7b7-c2f2-40e9-b794-db99290381a7",
   "metadata": {},
   "source": [
    "# Rating"
   ]
  },
  {
   "cell_type": "code",
   "execution_count": 31,
   "id": "ff7294f1-ad2f-421b-9521-a883fde69cb9",
   "metadata": {},
   "outputs": [
    {
     "data": {
      "text/plain": [
       "array(['UNRATED', '13+', 'ALL', '18+', 'R', 'TV-Y', 'TV-Y7', 'NR', '16+',\n",
       "       'TV-PG', '7+', 'TV-14', 'TV-NR', 'TV-G', 'PG-13', 'TV-MA', 'G',\n",
       "       'PG', 'NC-17', '16', 'AGES_16_', 'AGES_18_', 'ALL_AGES',\n",
       "       'NOT_RATE'], dtype=object)"
      ]
     },
     "execution_count": 31,
     "metadata": {},
     "output_type": "execute_result"
    }
   ],
   "source": [
    "prime[\"rating\"].unique()"
   ]
  },
  {
   "cell_type": "code",
   "execution_count": 33,
   "id": "97fdc0da-10ed-4683-a0eb-9e12b0204784",
   "metadata": {},
   "outputs": [
    {
     "data": {
      "text/html": [
       "<div>\n",
       "<style scoped>\n",
       "    .dataframe tbody tr th:only-of-type {\n",
       "        vertical-align: middle;\n",
       "    }\n",
       "\n",
       "    .dataframe tbody tr th {\n",
       "        vertical-align: top;\n",
       "    }\n",
       "\n",
       "    .dataframe thead th {\n",
       "        text-align: right;\n",
       "    }\n",
       "</style>\n",
       "<table border=\"1\" class=\"dataframe\">\n",
       "  <thead>\n",
       "    <tr style=\"text-align: right;\">\n",
       "      <th></th>\n",
       "      <th>show_id</th>\n",
       "      <th>type</th>\n",
       "      <th>title</th>\n",
       "      <th>director</th>\n",
       "      <th>cast</th>\n",
       "      <th>country</th>\n",
       "      <th>date_added</th>\n",
       "      <th>release_year</th>\n",
       "      <th>rating</th>\n",
       "      <th>duration</th>\n",
       "      <th>listed_in</th>\n",
       "      <th>description</th>\n",
       "    </tr>\n",
       "  </thead>\n",
       "  <tbody>\n",
       "    <tr>\n",
       "      <th>3525</th>\n",
       "      <td>s3526</td>\n",
       "      <td>Movie</td>\n",
       "      <td>15-Minute Lower Strength Focus 5.0 Workout</td>\n",
       "      <td>Unknown</td>\n",
       "      <td>Maggie Binkley</td>\n",
       "      <td>Unknown</td>\n",
       "      <td>Unknown</td>\n",
       "      <td>2017</td>\n",
       "      <td>General Audience</td>\n",
       "      <td>18 min</td>\n",
       "      <td>Fitness</td>\n",
       "      <td>No Equipment Needed. Tip: Complete Series 1.0 ...</td>\n",
       "    </tr>\n",
       "    <tr>\n",
       "      <th>3453</th>\n",
       "      <td>s3454</td>\n",
       "      <td>Movie</td>\n",
       "      <td>6-Headed Shark Attack</td>\n",
       "      <td>Mark Atkins</td>\n",
       "      <td>Brandon Auret, Cord Newman, Thandi Sebe</td>\n",
       "      <td>Unknown</td>\n",
       "      <td>Unknown</td>\n",
       "      <td>2018</td>\n",
       "      <td>Teens</td>\n",
       "      <td>89 min</td>\n",
       "      <td>Action, Science Fiction</td>\n",
       "      <td>What is supposed to be a marriage boot camp on...</td>\n",
       "    </tr>\n",
       "    <tr>\n",
       "      <th>9001</th>\n",
       "      <td>s9002</td>\n",
       "      <td>TV Show</td>\n",
       "      <td>Roadkill Garage</td>\n",
       "      <td>Unknown</td>\n",
       "      <td>Unknown</td>\n",
       "      <td>Unknown</td>\n",
       "      <td>Unknown</td>\n",
       "      <td>2017</td>\n",
       "      <td>Mature Audience</td>\n",
       "      <td>1 Season</td>\n",
       "      <td>Sports, Unscripted</td>\n",
       "      <td>Roadkill Garage</td>\n",
       "    </tr>\n",
       "    <tr>\n",
       "      <th>9403</th>\n",
       "      <td>s9404</td>\n",
       "      <td>Movie</td>\n",
       "      <td>Northmen: A Viking Saga</td>\n",
       "      <td>Claudio Fäh</td>\n",
       "      <td>Charlie Murphy, Ed Skrein, James Norton, Ryan ...</td>\n",
       "      <td>Unknown</td>\n",
       "      <td>Unknown</td>\n",
       "      <td>2015</td>\n",
       "      <td>Mature Audience</td>\n",
       "      <td>98 min</td>\n",
       "      <td>Action</td>\n",
       "      <td>When a storm decimates their longboat and stra...</td>\n",
       "    </tr>\n",
       "    <tr>\n",
       "      <th>792</th>\n",
       "      <td>s793</td>\n",
       "      <td>Movie</td>\n",
       "      <td>Tenkai Knights - Rise of the Knights</td>\n",
       "      <td>Mitsuru Hongo</td>\n",
       "      <td>Brian Beacock, Steven J. Blum, Johnny Yong Bos...</td>\n",
       "      <td>Unknown</td>\n",
       "      <td>Unknown</td>\n",
       "      <td>2014</td>\n",
       "      <td>General Audience</td>\n",
       "      <td>72 min</td>\n",
       "      <td>Anime, Kids</td>\n",
       "      <td>Ripped through space and time, four teenagers ...</td>\n",
       "    </tr>\n",
       "    <tr>\n",
       "      <th>5385</th>\n",
       "      <td>s5386</td>\n",
       "      <td>Movie</td>\n",
       "      <td>Trishna</td>\n",
       "      <td>Anil Ganguly</td>\n",
       "      <td>Shashi Kapoor, Sanjeev Kumar, Rakhee Gulzar, B...</td>\n",
       "      <td>Unknown</td>\n",
       "      <td>Unknown</td>\n",
       "      <td>1978</td>\n",
       "      <td>Teens</td>\n",
       "      <td>125 min</td>\n",
       "      <td>Drama</td>\n",
       "      <td>Aarti, the wife of a wealthy doctor, accidenta...</td>\n",
       "    </tr>\n",
       "    <tr>\n",
       "      <th>3783</th>\n",
       "      <td>s3784</td>\n",
       "      <td>Movie</td>\n",
       "      <td>Resurrection of Jake The Snake</td>\n",
       "      <td>Steve Yu</td>\n",
       "      <td>Jake the Snake Roberts, Diamond Dallas Page, S...</td>\n",
       "      <td>United States</td>\n",
       "      <td>Unknown</td>\n",
       "      <td>2015</td>\n",
       "      <td>Teens</td>\n",
       "      <td>97 min</td>\n",
       "      <td>Documentary, Sports</td>\n",
       "      <td>A fallen professional wrestling superstar batt...</td>\n",
       "    </tr>\n",
       "    <tr>\n",
       "      <th>6034</th>\n",
       "      <td>s6035</td>\n",
       "      <td>Movie</td>\n",
       "      <td>Herbie Hancock: Possibilities</td>\n",
       "      <td>Unknown</td>\n",
       "      <td>Herbie Hancock, Christina Aguilera, Sting, Joh...</td>\n",
       "      <td>Unknown</td>\n",
       "      <td>Unknown</td>\n",
       "      <td>2006</td>\n",
       "      <td>General Audience</td>\n",
       "      <td>91 min</td>\n",
       "      <td>Arthouse</td>\n",
       "      <td>Ordinary music soars to extraordinary heights ...</td>\n",
       "    </tr>\n",
       "    <tr>\n",
       "      <th>5872</th>\n",
       "      <td>s5873</td>\n",
       "      <td>Movie</td>\n",
       "      <td>Tula Shikwin Changlach Dhada</td>\n",
       "      <td>Girish Mohite</td>\n",
       "      <td>Makarand Anaspure, Sanjay Narvekar, Rujuta Des...</td>\n",
       "      <td>India</td>\n",
       "      <td>Unknown</td>\n",
       "      <td>2007</td>\n",
       "      <td>General Audience</td>\n",
       "      <td>152 min</td>\n",
       "      <td>Comedy</td>\n",
       "      <td>A struggling actor (Sanjay Narvekar) falls in ...</td>\n",
       "    </tr>\n",
       "    <tr>\n",
       "      <th>6842</th>\n",
       "      <td>s6843</td>\n",
       "      <td>TV Show</td>\n",
       "      <td>The Moth Effect</td>\n",
       "      <td>Unknown</td>\n",
       "      <td>Jazz Twemlow, Nick Boshier</td>\n",
       "      <td>Unknown</td>\n",
       "      <td>Unknown</td>\n",
       "      <td>2021</td>\n",
       "      <td>Mature Audience</td>\n",
       "      <td>1 Season</td>\n",
       "      <td>Comedy</td>\n",
       "      <td>There's no target too weird, complicated, sill...</td>\n",
       "    </tr>\n",
       "  </tbody>\n",
       "</table>\n",
       "</div>"
      ],
      "text/plain": [
       "     show_id     type                                       title  \\\n",
       "3525   s3526    Movie  15-Minute Lower Strength Focus 5.0 Workout   \n",
       "3453   s3454    Movie                       6-Headed Shark Attack   \n",
       "9001   s9002  TV Show                             Roadkill Garage   \n",
       "9403   s9404    Movie                     Northmen: A Viking Saga   \n",
       "792     s793    Movie        Tenkai Knights - Rise of the Knights   \n",
       "5385   s5386    Movie                                     Trishna   \n",
       "3783   s3784    Movie              Resurrection of Jake The Snake   \n",
       "6034   s6035    Movie               Herbie Hancock: Possibilities   \n",
       "5872   s5873    Movie                Tula Shikwin Changlach Dhada   \n",
       "6842   s6843  TV Show                             The Moth Effect   \n",
       "\n",
       "           director                                               cast  \\\n",
       "3525        Unknown                                     Maggie Binkley   \n",
       "3453    Mark Atkins            Brandon Auret, Cord Newman, Thandi Sebe   \n",
       "9001        Unknown                                            Unknown   \n",
       "9403    Claudio Fäh  Charlie Murphy, Ed Skrein, James Norton, Ryan ...   \n",
       "792   Mitsuru Hongo  Brian Beacock, Steven J. Blum, Johnny Yong Bos...   \n",
       "5385   Anil Ganguly  Shashi Kapoor, Sanjeev Kumar, Rakhee Gulzar, B...   \n",
       "3783       Steve Yu  Jake the Snake Roberts, Diamond Dallas Page, S...   \n",
       "6034        Unknown  Herbie Hancock, Christina Aguilera, Sting, Joh...   \n",
       "5872  Girish Mohite  Makarand Anaspure, Sanjay Narvekar, Rujuta Des...   \n",
       "6842        Unknown                         Jazz Twemlow, Nick Boshier   \n",
       "\n",
       "            country date_added  release_year            rating  duration  \\\n",
       "3525        Unknown    Unknown          2017  General Audience    18 min   \n",
       "3453        Unknown    Unknown          2018             Teens    89 min   \n",
       "9001        Unknown    Unknown          2017   Mature Audience  1 Season   \n",
       "9403        Unknown    Unknown          2015   Mature Audience    98 min   \n",
       "792         Unknown    Unknown          2014  General Audience    72 min   \n",
       "5385        Unknown    Unknown          1978             Teens   125 min   \n",
       "3783  United States    Unknown          2015             Teens    97 min   \n",
       "6034        Unknown    Unknown          2006  General Audience    91 min   \n",
       "5872          India    Unknown          2007  General Audience   152 min   \n",
       "6842        Unknown    Unknown          2021   Mature Audience  1 Season   \n",
       "\n",
       "                    listed_in  \\\n",
       "3525                  Fitness   \n",
       "3453  Action, Science Fiction   \n",
       "9001       Sports, Unscripted   \n",
       "9403                   Action   \n",
       "792               Anime, Kids   \n",
       "5385                    Drama   \n",
       "3783      Documentary, Sports   \n",
       "6034                 Arthouse   \n",
       "5872                   Comedy   \n",
       "6842                   Comedy   \n",
       "\n",
       "                                            description  \n",
       "3525  No Equipment Needed. Tip: Complete Series 1.0 ...  \n",
       "3453  What is supposed to be a marriage boot camp on...  \n",
       "9001                                    Roadkill Garage  \n",
       "9403  When a storm decimates their longboat and stra...  \n",
       "792   Ripped through space and time, four teenagers ...  \n",
       "5385  Aarti, the wife of a wealthy doctor, accidenta...  \n",
       "3783  A fallen professional wrestling superstar batt...  \n",
       "6034  Ordinary music soars to extraordinary heights ...  \n",
       "5872  A struggling actor (Sanjay Narvekar) falls in ...  \n",
       "6842  There's no target too weird, complicated, sill...  "
      ]
     },
     "execution_count": 33,
     "metadata": {},
     "output_type": "execute_result"
    }
   ],
   "source": [
    "def cR(rate):\n",
    "    new_rating={\n",
    "        'UNRATED':  'General Audience',\n",
    "        '13+':'Teens' ,\n",
    "        'ALL':  'General Audience',\n",
    "        '18+': 'Mature Audience' ,\n",
    "        'R': 'Mature Audience',\n",
    "        'TV-Y' : 'General Audience',\n",
    "        'TV-Y7': 'Teens',\n",
    "        'NR': 'Mature Audience',\n",
    "        '16+':'Teens' ,\n",
    "        'TV-PG':  'Teens',\n",
    "        '7+': 'kids',\n",
    "        'TV-14':'Teens' ,\n",
    "        'TV-NR': 'Mature Audience',\n",
    "        'TV-G' : 'General Audience',\n",
    "        'PG-13' :'Teens' ,\n",
    "        'TV-MA' : 'Mature Audience' ,\n",
    "        'G': 'General Audience',\n",
    "        'PG': 'General Audience',\n",
    "        'NC-17' :'Mature Audience' ,\n",
    "        '16': 'General Audience', \n",
    "        'AGES_16_': 'Teens',\n",
    "        'AGES_18_': 'Mature Audience',\n",
    "        'ALL_AGES':  'General Audience',\n",
    "        'NOT_RATE':  'General Audience'\n",
    "    }\n",
    "    return new_rating.get(rate,'Unknown')\n",
    "prime['rating'] = prime['rating'].apply(cR)\n",
    "prime.sample(10)"
   ]
  },
  {
   "cell_type": "code",
   "execution_count": 39,
   "id": "055f26c1-1fc6-48ac-b2ed-7763af80b496",
   "metadata": {},
   "outputs": [
    {
     "data": {
      "text/html": [
       "<div>\n",
       "<style scoped>\n",
       "    .dataframe tbody tr th:only-of-type {\n",
       "        vertical-align: middle;\n",
       "    }\n",
       "\n",
       "    .dataframe tbody tr th {\n",
       "        vertical-align: top;\n",
       "    }\n",
       "\n",
       "    .dataframe thead th {\n",
       "        text-align: right;\n",
       "    }\n",
       "</style>\n",
       "<table border=\"1\" class=\"dataframe\">\n",
       "  <thead>\n",
       "    <tr style=\"text-align: right;\">\n",
       "      <th></th>\n",
       "      <th>show_id</th>\n",
       "      <th>type</th>\n",
       "      <th>title</th>\n",
       "      <th>director</th>\n",
       "      <th>cast</th>\n",
       "      <th>country</th>\n",
       "      <th>date_added</th>\n",
       "      <th>release_year</th>\n",
       "      <th>rating</th>\n",
       "      <th>duration</th>\n",
       "      <th>listed_in</th>\n",
       "      <th>description</th>\n",
       "    </tr>\n",
       "  </thead>\n",
       "  <tbody>\n",
       "    <tr>\n",
       "      <th>5850</th>\n",
       "      <td>s5851</td>\n",
       "      <td>Movie</td>\n",
       "      <td>Lake of the Woods</td>\n",
       "      <td>Garrett Clancy</td>\n",
       "      <td>C. Thomas Howell, Duane Whitaker, Geoffrey Lewis</td>\n",
       "      <td>Unknown</td>\n",
       "      <td>Unknown</td>\n",
       "      <td>2007</td>\n",
       "      <td>Teens</td>\n",
       "      <td>94 min</td>\n",
       "      <td>Drama, Suspense</td>\n",
       "      <td>After his wife dumps him, a failed author rent...</td>\n",
       "    </tr>\n",
       "    <tr>\n",
       "      <th>3938</th>\n",
       "      <td>s3939</td>\n",
       "      <td>Movie</td>\n",
       "      <td>15-Minute Total Body Shred 9.0 Workout (with w...</td>\n",
       "      <td>Unknown</td>\n",
       "      <td>Maggie Binkley</td>\n",
       "      <td>Unknown</td>\n",
       "      <td>Unknown</td>\n",
       "      <td>2020</td>\n",
       "      <td>General Audience</td>\n",
       "      <td>20 min</td>\n",
       "      <td>Fitness</td>\n",
       "      <td>Wrap up your week with this intense full body ...</td>\n",
       "    </tr>\n",
       "    <tr>\n",
       "      <th>7023</th>\n",
       "      <td>s7024</td>\n",
       "      <td>Movie</td>\n",
       "      <td>Killer Queen</td>\n",
       "      <td>Ramin Fahrenheit</td>\n",
       "      <td>Fatima Maziani, Ramin Fahrenheit, Aleksandra M...</td>\n",
       "      <td>Unknown</td>\n",
       "      <td>Unknown</td>\n",
       "      <td>2019</td>\n",
       "      <td>Teens</td>\n",
       "      <td>84 min</td>\n",
       "      <td>Arthouse, Horror, Suspense</td>\n",
       "      <td>Killer Queen is a Grainy Descent into Madness ...</td>\n",
       "    </tr>\n",
       "    <tr>\n",
       "      <th>9523</th>\n",
       "      <td>s9524</td>\n",
       "      <td>Movie</td>\n",
       "      <td>The Wedding Trip</td>\n",
       "      <td>Sean King</td>\n",
       "      <td>Sydney Bakich, Bart Blachnio, Dani Jean, Krist...</td>\n",
       "      <td>Unknown</td>\n",
       "      <td>Unknown</td>\n",
       "      <td>2021</td>\n",
       "      <td>Teens</td>\n",
       "      <td>98 min</td>\n",
       "      <td>Comedy</td>\n",
       "      <td>When Jack, a groomsman leaves for his best fri...</td>\n",
       "    </tr>\n",
       "    <tr>\n",
       "      <th>38</th>\n",
       "      <td>s39</td>\n",
       "      <td>Movie</td>\n",
       "      <td>Yoga with Sound Meditations</td>\n",
       "      <td>Mark Knight</td>\n",
       "      <td>Ann-Marie Newland</td>\n",
       "      <td>Unknown</td>\n",
       "      <td>Unknown</td>\n",
       "      <td>2016</td>\n",
       "      <td>General Audience</td>\n",
       "      <td>9 min</td>\n",
       "      <td>Fitness, Special Interest</td>\n",
       "      <td>This session will establish how to prepare for...</td>\n",
       "    </tr>\n",
       "  </tbody>\n",
       "</table>\n",
       "</div>"
      ],
      "text/plain": [
       "     show_id   type                                              title  \\\n",
       "5850   s5851  Movie                                  Lake of the Woods   \n",
       "3938   s3939  Movie  15-Minute Total Body Shred 9.0 Workout (with w...   \n",
       "7023   s7024  Movie                                       Killer Queen   \n",
       "9523   s9524  Movie                                   The Wedding Trip   \n",
       "38       s39  Movie                        Yoga with Sound Meditations   \n",
       "\n",
       "              director                                               cast  \\\n",
       "5850    Garrett Clancy   C. Thomas Howell, Duane Whitaker, Geoffrey Lewis   \n",
       "3938           Unknown                                     Maggie Binkley   \n",
       "7023  Ramin Fahrenheit  Fatima Maziani, Ramin Fahrenheit, Aleksandra M...   \n",
       "9523         Sean King  Sydney Bakich, Bart Blachnio, Dani Jean, Krist...   \n",
       "38         Mark Knight                                  Ann-Marie Newland   \n",
       "\n",
       "      country date_added  release_year            rating duration  \\\n",
       "5850  Unknown    Unknown          2007             Teens   94 min   \n",
       "3938  Unknown    Unknown          2020  General Audience   20 min   \n",
       "7023  Unknown    Unknown          2019             Teens   84 min   \n",
       "9523  Unknown    Unknown          2021             Teens   98 min   \n",
       "38    Unknown    Unknown          2016  General Audience    9 min   \n",
       "\n",
       "                       listed_in  \\\n",
       "5850             Drama, Suspense   \n",
       "3938                     Fitness   \n",
       "7023  Arthouse, Horror, Suspense   \n",
       "9523                      Comedy   \n",
       "38     Fitness, Special Interest   \n",
       "\n",
       "                                            description  \n",
       "5850  After his wife dumps him, a failed author rent...  \n",
       "3938  Wrap up your week with this intense full body ...  \n",
       "7023  Killer Queen is a Grainy Descent into Madness ...  \n",
       "9523  When Jack, a groomsman leaves for his best fri...  \n",
       "38    This session will establish how to prepare for...  "
      ]
     },
     "execution_count": 39,
     "metadata": {},
     "output_type": "execute_result"
    }
   ],
   "source": [
    "new_rating={\n",
    "        'UNRATED':  'General Audience',\n",
    "        '13+':'Teens' ,\n",
    "        'ALL':  'General Audience',\n",
    "        '18+': 'Mature Audience' ,\n",
    "        'R': 'Mature Audience',\n",
    "        'TV-Y' : 'General Audience',\n",
    "        'TV-Y7': 'Teens',\n",
    "        'NR': 'Mature Audience',\n",
    "        '16+':'Teens' ,\n",
    "        'TV-PG':  'Teens',\n",
    "        '7+': 'kids',\n",
    "        'TV-14':'Teens' ,\n",
    "        'TV-NR': 'Mature Audience',\n",
    "        'TV-G' : 'General Audience',\n",
    "        'PG-13' :'Teens' ,\n",
    "        'TV-MA' : 'Mature Audience' ,\n",
    "        'G': 'General Audience',\n",
    "        'PG': 'General Audience',\n",
    "        'NC-17' :'Mature Audience' ,\n",
    "        '16': 'General Audience', \n",
    "        'AGES_16_': 'Teens',\n",
    "        'AGES_18_': 'Mature Audience',\n",
    "        'ALL_AGES':  'General Audience',\n",
    "        'NOT_RATE':  'General Audience'\n",
    "    }\n",
    "prime['rating'] = prime['rating'].replace(new_rating)\n",
    "prime.sample(5)"
   ]
  },
  {
   "cell_type": "code",
   "execution_count": 37,
   "id": "ee543b96-1df6-4306-9966-52fcc42eb581",
   "metadata": {},
   "outputs": [
    {
     "data": {
      "text/plain": [
       "array(['General Audience', 'Teens', 'Mature Audience', 'kids'],\n",
       "      dtype=object)"
      ]
     },
     "execution_count": 37,
     "metadata": {},
     "output_type": "execute_result"
    }
   ],
   "source": [
    "prime[\"rating\"].unique()"
   ]
  },
  {
   "cell_type": "code",
   "execution_count": 146,
   "id": "95e5559b-28a0-4a2b-8d5b-07983a5cba8f",
   "metadata": {},
   "outputs": [
    {
     "data": {
      "text/plain": [
       "Text(0.5, 1.0, 'Content for each Category')"
      ]
     },
     "execution_count": 146,
     "metadata": {},
     "output_type": "execute_result"
    },
    {
     "data": {
      "image/png": "[encoded data removed]",
      "text/plain": [
       "<Figure size 500x300 with 1 Axes>"
      ]
     },
     "metadata": {},
     "output_type": "display_data"
    }
   ],
   "source": [
    "plt.figure(figsize=(5,3))\n",
    "sns.countplot(x = 'rating',data = prime,palette=['lightblue','lightgreen','yellow','grey'])\n",
    "plt.title(\"Content for each Category\")"
   ]
  },
  {
   "cell_type": "markdown",
   "id": "7c49b55e-3baa-401d-a31d-1f2b73309e34",
   "metadata": {},
   "source": [
    "Analysis : There are more content for TEENS "
   ]
  },
  {
   "cell_type": "markdown",
   "id": "6b9d09b5-580f-4b86-bdea-91ebcc4363af",
   "metadata": {},
   "source": [
    "# Relation Between Rating and Types"
   ]
  },
  {
   "cell_type": "code",
   "execution_count": 148,
   "id": "f6598e32-a6e3-4e17-a197-99c491fde3d1",
   "metadata": {},
   "outputs": [
    {
     "data": {
      "text/plain": [
       "Text(0.5, 1.0, 'Movies and TV Shows for each Rating')"
      ]
     },
     "execution_count": 148,
     "metadata": {},
     "output_type": "execute_result"
    },
    {
     "data": {
      "image/png": "[encoded data removed]",
      "text/plain": [
       "<Figure size 640x480 with 1 Axes>"
      ]
     },
     "metadata": {},
     "output_type": "display_data"
    }
   ],
   "source": [
    "sns.countplot(x = 'rating',data = prime,hue=\"type\",palette=\"pastel\")\n",
    "plt.title(\"Movies and TV Shows for each Rating\")"
   ]
  },
  {
   "cell_type": "code",
   "execution_count": 160,
   "id": "f3eff100-d3cd-46c9-8803-1558064be330",
   "metadata": {},
   "outputs": [
    {
     "data": {
      "image/png": "[encoded data removed]",
      "text/plain": [
       "<Figure size 640x480 with 1 Axes>"
      ]
     },
     "metadata": {},
     "output_type": "display_data"
    }
   ],
   "source": [
    "plt.pie(x = prime['rating'].value_counts(),labels=prime['rating'].unique(),shadow= True,autopct='%.1f%%',explode=[0.0,0.1,0.09,0.3])\n",
    "plt.show()"
   ]
  },
  {
   "cell_type": "code",
   "execution_count": null,
   "id": "f7372fa2-58eb-4e2d-88db-b5ac89568f39",
   "metadata": {},
   "outputs": [],
   "source": []
  }
 ],
 "metadata": {
  "kernelspec": {
   "display_name": "Python 3 (ipykernel)",
   "language": "python",
   "name": "python3"
  },
  "language_info": {
   "codemirror_mode": {
    "name": "ipython",
    "version": 3
   },
   "file_extension": ".py",
   "mimetype": "text/x-python",
   "name": "python",
   "nbconvert_exporter": "python",
   "pygments_lexer": "ipython3",
   "version": "3.12.4"
  }
 },
 "nbformat": 4,
 "nbformat_minor": 5
}
